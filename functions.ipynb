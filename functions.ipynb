{
 "cells": [
  {
   "cell_type": "code",
   "execution_count": 3,
   "metadata": {},
   "outputs": [],
   "source": [
    "def get_views(df_housing):\n",
    "    # Filter properties with waterfront and scenic views\n",
    "    views_water = df_housing.query('waterfront == 1 & view > 0')\n",
    "    views_no_water = df_housing.query('waterfront == 0 & view > 0')\n",
    "    \n",
    "    # Calculate average prices\n",
    "    avg_price_water = views_water['price'].median()\n",
    "    avg_price_no_water = views_no_water['price'].median()\n",
    "    \n",
    "    # Print the results (display only)\n",
    "    print(f'The average price for a scenic property with a waterfront view is ${avg_price_water:.2f}')\n",
    "    print(f'The average price for a scenic property without a waterfront view is ${avg_price_no_water:.2f}')\n",
    "    \n",
    "    # Return only the objects for further use\n",
    "    return avg_price_water, avg_price_no_water, views_water, views_no_water\n",
    "\n"
   ]
  },
  {
   "cell_type": "code",
   "execution_count": 6,
   "metadata": {},
   "outputs": [],
   "source": [
    "def plot_the_views(df_housing, views_water, views_no_water):\n",
    "    # Add columns for views with and without water\n",
    "    df_housing['views_water'] = views_water['view']\n",
    "    df_housing['views_no_water'] = views_no_water['view']\n",
    "    \n",
    "    # Melt the DataFrame for Seaborn compatibility\n",
    "    df_long = df_housing.melt(\n",
    "        id_vars=['price'], \n",
    "        value_vars=['views_water', 'views_no_water'], \n",
    "        var_name='Categories', \n",
    "        value_name='Values'\n",
    "    )\n",
    "    \n",
    "    # Create the boxplot\n",
    "    sns.boxplot(x='Values', y='price', hue='Categories', data=df_long)\n",
    "    plt.title('Price by View Category')\n",
    "    plt.show()"
   ]
  },
  {
   "cell_type": "code",
   "execution_count": 8,
   "metadata": {},
   "outputs": [],
   "source": [
    "def housing_6_lower(df_housing):\n",
    "    # Calculate the mean price\n",
    "    mean_price = df_housing['price'].mean()\n",
    "\n",
    "    # Filter the DataFrame to include only rows where price is less than or equal to the mean\n",
    "    lower_half_df = df_housing[df_housing['price'] <= mean_price]\n",
    "\n",
    "    # Total number of entries in the filtered DataFrame\n",
    "    total_lower_half = len(lower_half_df)\n",
    "\n",
    "    # Number of grade 6 entries in the filtered DataFrame\n",
    "    grade_6_count = (lower_half_df['grade'] == 6).sum()\n",
    "\n",
    "    # Calculate percentage\n",
    "    grade_6_percentage = (grade_6_count / total_lower_half * 100) if total_lower_half > 0 else 0\n",
    "\n",
    "    # Print the result\n",
    "    print(f\"Percentage of grade 6 entries in the lower half of prices: {grade_6_percentage:.2f}%\")\n",
    "    \n",
    "    # Return the percentage\n",
    "    return grade_6_percentage, lower_half_df, total_lower_half\n"
   ]
  },
  {
   "cell_type": "code",
   "execution_count": null,
   "metadata": {},
   "outputs": [],
   "source": [
    "def hist_grades(lower_half_df):\n",
    "    # Generate a histogram showing the frequency of grades\n",
    "    sns.histplot(\n",
    "        data=lower_half_df, \n",
    "        x='grade', \n",
    "        hue='grade', \n",
    "        multiple='dodge', \n",
    "        bins=len(lower_half_df['grade'].unique()), \n",
    "        shrink=0.8  # Adjust shrink for better bar spacing\n",
    "    )\n",
    "\n",
    "    # Customize the plot\n",
    "    plt.title(\"Frequency of Grades\")\n",
    "    plt.xlabel(\"Grade\")\n",
    "    plt.ylabel(\"Frequency\")\n",
    "    plt.show()"
   ]
  },
  {
   "cell_type": "code",
   "execution_count": null,
   "metadata": {},
   "outputs": [],
   "source": [
    "def plot_bathrooms_boxplot(df_housing):\n",
    "    # Drop rows with missing waterfront values\n",
    "    df_cleaned = df_housing.dropna(subset=['waterfront'])\n",
    "\n",
    "    # Create the boxplot\n",
    "    sns.boxplot(x='waterfront', y='bathrooms', palette='Accent_r', data=df_cleaned)\n",
    "\n",
    "    # Customize the plot\n",
    "    plt.title('Comparison of Bathrooms in Waterfront vs Non-Waterfront Properties')\n",
    "    plt.xlabel('Waterfront Status (0 = Non-waterfront, 1 = Waterfront)')\n",
    "    plt.ylabel('Number of Bathrooms')\n",
    "\n",
    "    # Display the plot\n",
    "    plt.show()"
   ]
  }
 ],
 "metadata": {
  "kernelspec": {
   "display_name": "venv",
   "language": "python",
   "name": "python3"
  },
  "language_info": {
   "codemirror_mode": {
    "name": "ipython",
    "version": 3
   },
   "file_extension": ".py",
   "mimetype": "text/x-python",
   "name": "python",
   "nbconvert_exporter": "python",
   "pygments_lexer": "ipython3",
   "version": "3.11.3"
  }
 },
 "nbformat": 4,
 "nbformat_minor": 2
}
